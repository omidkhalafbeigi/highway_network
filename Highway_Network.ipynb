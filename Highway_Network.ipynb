{
  "nbformat": 4,
  "nbformat_minor": 0,
  "metadata": {
    "colab": {
      "name": "Highway Network.ipynb",
      "provenance": [],
      "collapsed_sections": [],
      "authorship_tag": "ABX9TyNI4D3wK47xFMEkE8ImRfj7",
      "include_colab_link": true
    },
    "kernelspec": {
      "name": "python3",
      "display_name": "Python 3"
    },
    "language_info": {
      "name": "python"
    }
  },
  "cells": [
    {
      "cell_type": "markdown",
      "metadata": {
        "id": "view-in-github",
        "colab_type": "text"
      },
      "source": [
        "<a href=\"https://colab.research.google.com/github/omidkhalafbeigi/highway_network/blob/main/Highway_Network.ipynb\" target=\"_parent\"><img src=\"https://colab.research.google.com/assets/colab-badge.svg\" alt=\"Open In Colab\"/></a>"
      ]
    },
    {
      "cell_type": "code",
      "execution_count": null,
      "metadata": {
        "id": "ZJRINf-jjmKM"
      },
      "outputs": [],
      "source": [
        "import numpy as np\n",
        "import torch\n",
        "from torch import optim\n",
        "from torch import nn\n",
        "import pandas as pd\n",
        "from sklearn.datasets import make_circles\n"
      ]
    },
    {
      "cell_type": "code",
      "source": [
        "def shuffle(x : torch.Tensor, y : torch.Tensor):\n",
        "  idx = torch.randperm(x.shape[0])\n",
        "  x_randomized = x[idx]\n",
        "  y_randomized = y[idx]\n",
        "  \n",
        "  return x_randomized, y_randomized"
      ],
      "metadata": {
        "id": "JYyMKnn0P99H"
      },
      "execution_count": null,
      "outputs": []
    },
    {
      "cell_type": "code",
      "source": [
        "X, target = make_circles(n_samples=200, factor=0.3, noise=0.1)\n",
        "X, target = torch.Tensor(X), torch.Tensor(target).reshape(-1, 1)"
      ],
      "metadata": {
        "id": "SQ9QMJbbjuPm"
      },
      "execution_count": null,
      "outputs": []
    },
    {
      "cell_type": "code",
      "source": [
        "H = nn.Linear(in_features=2, out_features=2, bias=True, device='cpu')\n",
        "T = nn.Linear(in_features=2, out_features=2, bias=True, device='cpu')\n",
        "output_layer = nn.Linear(in_features=2, out_features=1, bias=True, device='cpu')\n",
        "\n",
        "relu = nn.ReLU()\n",
        "sigmoid = nn.Sigmoid()\n",
        "\n",
        "parameters = list(H.parameters()) + list(T.parameters())\n",
        "optimizer = optim.Adam(params=parameters, lr=0.001)\n",
        "bce = nn.BCELoss()"
      ],
      "metadata": {
        "id": "Qp5kPmVElfqG"
      },
      "execution_count": null,
      "outputs": []
    },
    {
      "cell_type": "code",
      "source": [
        "for epoch in range(1000):\n",
        "  X, target = shuffle(X, target)\n",
        "  H_output = relu(H(X))\n",
        "  T_output = sigmoid(T(X))\n",
        "  highway = (H_output * T_output) + (X * (1 - T_output))\n",
        "  y = sigmoid(output_layer(highway))\n",
        "\n",
        "  loss = bce(y, target)\n",
        "  loss.backward()\n",
        "  optimizer.step()\n",
        "  optimizer.zero_grad()\n",
        "\n",
        "  if (epoch % 100) == 0:\n",
        "    print(f'Epoch: {epoch} - Loss: {loss:.3f}')"
      ],
      "metadata": {
        "id": "7X-LufWYnyaF"
      },
      "execution_count": null,
      "outputs": []
    }
  ]
}